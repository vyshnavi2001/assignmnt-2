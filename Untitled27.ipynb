{
  "nbformat": 4,
  "nbformat_minor": 0,
  "metadata": {
    "colab": {
      "name": "Untitled27.ipynb",
      "provenance": [],
      "authorship_tag": "ABX9TyMXM1SI7DZsXQV8j2Dpqh0h",
      "include_colab_link": true
    },
    "kernelspec": {
      "name": "python3",
      "display_name": "Python 3"
    }
  },
  "cells": [
    {
      "cell_type": "markdown",
      "metadata": {
        "id": "view-in-github",
        "colab_type": "text"
      },
      "source": [
        "<a href=\"https://colab.research.google.com/github/vyshnavi2001/assignmnt-2/blob/master/Untitled27.ipynb\" target=\"_parent\"><img src=\"https://colab.research.google.com/assets/colab-badge.svg\" alt=\"Open In Colab\"/></a>"
      ]
    },
    {
      "cell_type": "code",
      "metadata": {
        "id": "QJIU9JkQRiG4",
        "colab_type": "code",
        "colab": {
          "base_uri": "https://localhost:8080/",
          "height": 34
        },
        "outputId": "6531020a-f400-4649-a793-ca5b4a9d2e5b"
      },
      "source": [
        "n=(5,6,8,3,9,1)\n",
        "list=[]\n",
        "list.append(n[0])\n",
        "for i in range(len(n)-1):\n",
        "    m=n[i]*n[i+1]\n",
        "    list.append(m)\n",
        "print(\"list=\",list)\n"
      ],
      "execution_count": 8,
      "outputs": [
        {
          "output_type": "stream",
          "text": [
            "list= [5, 30, 48, 24, 27, 9]\n"
          ],
          "name": "stdout"
        }
      ]
    }
  ]
}