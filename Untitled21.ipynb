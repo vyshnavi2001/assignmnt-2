{
  "nbformat": 4,
  "nbformat_minor": 0,
  "metadata": {
    "colab": {
      "name": "Untitled21.ipynb",
      "provenance": [],
      "authorship_tag": "ABX9TyOKH+Ju+kSYuBr/DHdVaZlB",
      "include_colab_link": true
    },
    "kernelspec": {
      "name": "python3",
      "display_name": "Python 3"
    }
  },
  "cells": [
    {
      "cell_type": "markdown",
      "metadata": {
        "id": "view-in-github",
        "colab_type": "text"
      },
      "source": [
        "<a href=\"https://colab.research.google.com/github/vyshnavi2001/assignmnt-2/blob/master/Untitled21.ipynb\" target=\"_parent\"><img src=\"https://colab.research.google.com/assets/colab-badge.svg\" alt=\"Open In Colab\"/></a>"
      ]
    },
    {
      "cell_type": "code",
      "metadata": {
        "id": "PvNeccTNNVKx",
        "colab_type": "code",
        "colab": {
          "base_uri": "https://localhost:8080/",
          "height": 102
        },
        "outputId": "7b8af396-e30d-4827-a587-c547b817839c"
      },
      "source": [
        "per_min=60\n",
        "per_hour=3600\n",
        "per_day=86400\n",
        "days=int(input(\"Enter the number of Days: \"))\n",
        "hours=int(input(\"Enter the number of Hours: \"))\n",
        "minutes=int(input(\"Enter the number of Minutes: \"))\n",
        "seconds=int(input(\"Enter the number of Seconds: \"))\n",
        "total_seconds=days*per_day\n",
        "total_seconds=total_seconds+(hours*per_hour)\n",
        "total_seconds=total_seconds+(minutes*per_min)\n",
        "total_seconds=total_seconds+seconds\n",
        "print(\"Total number of seconds = \",\"%d\"%(total_seconds))\n"
      ],
      "execution_count": 2,
      "outputs": [
        {
          "output_type": "stream",
          "text": [
            "Enter the number of Days: 3\n",
            "Enter the number of Hours: 45\n",
            "Enter the number of Minutes: 1200\n",
            "Enter the number of Seconds: 300000\n",
            "Total number of seconds =  793200\n"
          ],
          "name": "stdout"
        }
      ]
    }
  ]
}