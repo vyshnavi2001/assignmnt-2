{
  "nbformat": 4,
  "nbformat_minor": 0,
  "metadata": {
    "colab": {
      "name": "Untitled30.ipynb",
      "provenance": [],
      "authorship_tag": "ABX9TyOxCjnGtOnciBeuxvuZRvBb",
      "include_colab_link": true
    },
    "kernelspec": {
      "name": "python3",
      "display_name": "Python 3"
    }
  },
  "cells": [
    {
      "cell_type": "markdown",
      "metadata": {
        "id": "view-in-github",
        "colab_type": "text"
      },
      "source": [
        "<a href=\"https://colab.research.google.com/github/vyshnavi2001/assignmnt-2/blob/master/Untitled30.ipynb\" target=\"_parent\"><img src=\"https://colab.research.google.com/assets/colab-badge.svg\" alt=\"Open In Colab\"/></a>"
      ]
    },
    {
      "cell_type": "code",
      "metadata": {
        "id": "fyi4-Sw9UXiy",
        "colab_type": "code",
        "colab": {}
      },
      "source": [
        "t=int(input())\n",
        "for i in range(t):\n",
        "  A,B=input(\"Enter A string and B string : \").split()\n",
        "  if B in A:\n",
        "    print(\"1\")\n",
        "  else:\n",
        "    print(\"0\")\n"
      ],
      "execution_count": null,
      "outputs": []
    }
  ]
}