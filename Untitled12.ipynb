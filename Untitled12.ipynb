{
  "nbformat": 4,
  "nbformat_minor": 0,
  "metadata": {
    "colab": {
      "name": "Untitled12.ipynb",
      "provenance": [],
      "authorship_tag": "ABX9TyN8U2svEySp9IEOsqfApWra",
      "include_colab_link": true
    },
    "kernelspec": {
      "name": "python3",
      "display_name": "Python 3"
    }
  },
  "cells": [
    {
      "cell_type": "markdown",
      "metadata": {
        "id": "view-in-github",
        "colab_type": "text"
      },
      "source": [
        "<a href=\"https://colab.research.google.com/github/vyshnavi2001/assignmnt-2/blob/master/Untitled12.ipynb\" target=\"_parent\"><img src=\"https://colab.research.google.com/assets/colab-badge.svg\" alt=\"Open In Colab\"/></a>"
      ]
    },
    {
      "cell_type": "code",
      "metadata": {
        "id": "uPvSLGU5M39t",
        "colab_type": "code",
        "colab": {
          "base_uri": "https://localhost:8080/",
          "height": 85
        },
        "outputId": "b3cee5e4-6d64-420e-a15c-72811ee0ff7b"
      },
      "source": [
        "h=float (input(\"enter h:\"))\n",
        "b=float (input(\"enter b:\"))\n",
        "l=float (input(\"enter l:\"))\n",
        "p=(h+b+l)/2\n",
        "area=(p*(p-h)*(p-b)*(p-l))**0.5\n",
        "print(float(area))\n"
      ],
      "execution_count": 4,
      "outputs": [
        {
          "output_type": "stream",
          "text": [
            "enter h:6\n",
            "enter b:7\n",
            "enter l:8\n",
            "20.33316256758894\n"
          ],
          "name": "stdout"
        }
      ]
    }
  ]
}