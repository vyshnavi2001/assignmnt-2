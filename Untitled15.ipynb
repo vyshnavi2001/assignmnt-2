{
  "nbformat": 4,
  "nbformat_minor": 0,
  "metadata": {
    "colab": {
      "name": "Untitled15.ipynb",
      "provenance": [],
      "authorship_tag": "ABX9TyMLZfyBOaW2/1gWOVC+RGP4",
      "include_colab_link": true
    },
    "kernelspec": {
      "name": "python3",
      "display_name": "Python 3"
    }
  },
  "cells": [
    {
      "cell_type": "markdown",
      "metadata": {
        "id": "view-in-github",
        "colab_type": "text"
      },
      "source": [
        "<a href=\"https://colab.research.google.com/github/vyshnavi2001/assignmnt-2/blob/master/Untitled15.ipynb\" target=\"_parent\"><img src=\"https://colab.research.google.com/assets/colab-badge.svg\" alt=\"Open In Colab\"/></a>"
      ]
    },
    {
      "cell_type": "code",
      "metadata": {
        "id": "fHpAutfLr6fs",
        "colab_type": "code",
        "colab": {}
      },
      "source": [
        ""
      ],
      "execution_count": null,
      "outputs": []
    },
    {
      "cell_type": "code",
      "metadata": {
        "id": "OVSb9k0-oKko",
        "colab_type": "code",
        "colab": {
          "base_uri": "https://localhost:8080/",
          "height": 51
        },
        "outputId": "107575c6-af45-4075-94e2-f5c7c2e69829"
      },
      "source": [
        "string1=input(\"enter string:\")\n",
        "string2=' '\n",
        "for i in string1:\n",
        "  if i==' ':\n",
        "    string2=string2+'-'\n",
        "  else:\n",
        "    string2=string2+i\n",
        "print(string2)\n",
        "  \n",
        "\n",
        "\n"
      ],
      "execution_count": 15,
      "outputs": [
        {
          "output_type": "stream",
          "text": [
            "enter string:this show cat won\n",
            " this-show-cat-won\n"
          ],
          "name": "stdout"
        }
      ]
    }
  ]
}