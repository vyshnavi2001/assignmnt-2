{
  "nbformat": 4,
  "nbformat_minor": 0,
  "metadata": {
    "colab": {
      "name": "Untitled29.ipynb",
      "provenance": [],
      "authorship_tag": "ABX9TyMOv9WriUlJMOzVLNBHIDQ+",
      "include_colab_link": true
    },
    "kernelspec": {
      "name": "python3",
      "display_name": "Python 3"
    }
  },
  "cells": [
    {
      "cell_type": "markdown",
      "metadata": {
        "id": "view-in-github",
        "colab_type": "text"
      },
      "source": [
        "<a href=\"https://colab.research.google.com/github/vyshnavi2001/assignmnt-2/blob/master/Untitled29.ipynb\" target=\"_parent\"><img src=\"https://colab.research.google.com/assets/colab-badge.svg\" alt=\"Open In Colab\"/></a>"
      ]
    },
    {
      "cell_type": "code",
      "metadata": {
        "id": "wmbojQkcT7Hr",
        "colab_type": "code",
        "colab": {}
      },
      "source": [
        ""
      ],
      "execution_count": null,
      "outputs": []
    },
    {
      "cell_type": "code",
      "metadata": {
        "id": "m_Yhp-VpTxny",
        "colab_type": "code",
        "colab": {
          "base_uri": "https://localhost:8080/",
          "height": 51
        },
        "outputId": "4be5a0f3-8e6c-44ca-d059-3e9a2aed5f00"
      },
      "source": [
        "def longestpalindrome(n):\n",
        "    d=[[False for i in range(len(n))] for i in range(len(n))]\n",
        "    for i in range(len(n)):\n",
        "        d[i][i]=True\n",
        "    maxlen=1\n",
        "    start=0\n",
        "    for j in range(2,len(n)+1):\n",
        "        for i in range(len(n)-j+1):\n",
        "            end=i+j\n",
        "            if j==2:\n",
        "                if n[i]==n[end-1]:\n",
        "                    d[i][end-1]=True\n",
        "                    maxlen=j\n",
        "                    start=i\n",
        "            else:\n",
        "                if n[i]==n[end-1] and d[i+1][end-2]:\n",
        "                    d[i][end-1]=True\n",
        "                    maxlen=j\n",
        "                    start=i\n",
        "    return n[start:start+maxlen]\n",
        "n=input(\"Enter a string : \")\n",
        "print(longestpalindrome(n))\n"
      ],
      "execution_count": 3,
      "outputs": [
        {
          "output_type": "stream",
          "text": [
            "Enter a string : python classes\n",
            "ses\n"
          ],
          "name": "stdout"
        }
      ]
    }
  ]
}