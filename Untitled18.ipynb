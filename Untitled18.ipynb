{
  "nbformat": 4,
  "nbformat_minor": 0,
  "metadata": {
    "colab": {
      "name": "Untitled18.ipynb",
      "provenance": [],
      "authorship_tag": "ABX9TyNNnKrDZLBWm3WyMA2vBpy6",
      "include_colab_link": true
    },
    "kernelspec": {
      "name": "python3",
      "display_name": "Python 3"
    }
  },
  "cells": [
    {
      "cell_type": "markdown",
      "metadata": {
        "id": "view-in-github",
        "colab_type": "text"
      },
      "source": [
        "<a href=\"https://colab.research.google.com/github/vyshnavi2001/assignmnt-2/blob/master/Untitled18.ipynb\" target=\"_parent\"><img src=\"https://colab.research.google.com/assets/colab-badge.svg\" alt=\"Open In Colab\"/></a>"
      ]
    },
    {
      "cell_type": "code",
      "metadata": {
        "id": "Oyhm4WKZLqP1",
        "colab_type": "code",
        "colab": {
          "base_uri": "https://localhost:8080/",
          "height": 51
        },
        "outputId": "12084b5f-8e5f-4588-ab0b-14aab27e7ffb"
      },
      "source": [
        "salary=int(input(\"Enter the salary : \"))\n",
        "if (salary>=0) and (salary<=250000):\n",
        "    tax=(salary*0)\n",
        "elif (salary>250000) and (salary<=500000):\n",
        "    tax=(salary*0.05)\n",
        "elif (salary>500000) and (salary<=750000):\n",
        "    tax=(salary*0.1)\n",
        "elif (salary>750000) and (salary<=1000000):\n",
        "    tax=(salary*0.15)\n",
        "elif (salary>1000000) and (salary<=1250000):\n",
        "    tax=(salary*0.2)\n",
        "elif (salary>1250000) and (salary<=1500000):\n",
        "    tax=(salary*0.25)\n",
        "else:\n",
        "    tax=(salary*0.3)\n",
        "print(\"Tax is : \",tax)\n"
      ],
      "execution_count": 1,
      "outputs": [
        {
          "output_type": "stream",
          "text": [
            "Enter the salary : 300000\n",
            "Tax is :  15000.0\n"
          ],
          "name": "stdout"
        }
      ]
    }
  ]
}