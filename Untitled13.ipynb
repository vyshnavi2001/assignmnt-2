{
  "nbformat": 4,
  "nbformat_minor": 0,
  "metadata": {
    "colab": {
      "name": "Untitled13.ipynb",
      "provenance": [],
      "authorship_tag": "ABX9TyPLAvrRoM8L4hK/OiqOJgeS",
      "include_colab_link": true
    },
    "kernelspec": {
      "name": "python3",
      "display_name": "Python 3"
    }
  },
  "cells": [
    {
      "cell_type": "markdown",
      "metadata": {
        "id": "view-in-github",
        "colab_type": "text"
      },
      "source": [
        "<a href=\"https://colab.research.google.com/github/vyshnavi2001/assignmnt-2/blob/master/Untitled13.ipynb\" target=\"_parent\"><img src=\"https://colab.research.google.com/assets/colab-badge.svg\" alt=\"Open In Colab\"/></a>"
      ]
    },
    {
      "cell_type": "code",
      "metadata": {
        "id": "FuJo7S-GR1N9",
        "colab_type": "code",
        "colab": {
          "base_uri": "https://localhost:8080/",
          "height": 51
        },
        "outputId": "a77160b9-124a-4996-a053-ee6a89beb0f8"
      },
      "source": [
        "new=input(\"enter string:\")\n",
        "for i in range(0,int(len(new)/2)):\n",
        "  if new[i]==new[len(new)-i-1]:\n",
        "    print(\"palindrome\")\n",
        "  else:\n",
        "    print(\"not a palindrome\")\n",
        "  \n"
      ],
      "execution_count": 21,
      "outputs": [
        {
          "output_type": "stream",
          "text": [
            "enter string:mom\n",
            "palindrome\n"
          ],
          "name": "stdout"
        }
      ]
    }
  ]
}