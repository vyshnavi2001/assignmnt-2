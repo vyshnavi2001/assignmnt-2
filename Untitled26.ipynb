{
  "nbformat": 4,
  "nbformat_minor": 0,
  "metadata": {
    "colab": {
      "name": "Untitled26.ipynb",
      "provenance": [],
      "authorship_tag": "ABX9TyO4CdEb+oU4HNG07zXUppZx",
      "include_colab_link": true
    },
    "kernelspec": {
      "name": "python3",
      "display_name": "Python 3"
    }
  },
  "cells": [
    {
      "cell_type": "markdown",
      "metadata": {
        "id": "view-in-github",
        "colab_type": "text"
      },
      "source": [
        "<a href=\"https://colab.research.google.com/github/vyshnavi2001/assignmnt-2/blob/master/Untitled26.ipynb\" target=\"_parent\"><img src=\"https://colab.research.google.com/assets/colab-badge.svg\" alt=\"Open In Colab\"/></a>"
      ]
    },
    {
      "cell_type": "code",
      "metadata": {
        "id": "q0N04ig0Q_8l",
        "colab_type": "code",
        "colab": {
          "base_uri": "https://localhost:8080/",
          "height": 34
        },
        "outputId": "c2d10952-49a4-4d25-8746-d0eea00b4348"
      },
      "source": [
        "l=[5,6,8,34,89,1]\n",
        "list=[]\n",
        "for i in range(len(l)-1):\n",
        "    next=l[i]+l[i+1]\n",
        "    list.append(next)\n",
        "print(\"Out=\",list)\n"
      ],
      "execution_count": 1,
      "outputs": [
        {
          "output_type": "stream",
          "text": [
            "Out= [11, 14, 42, 123, 90]\n"
          ],
          "name": "stdout"
        }
      ]
    }
  ]
}